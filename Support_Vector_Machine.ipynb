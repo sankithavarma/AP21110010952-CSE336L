{
  "nbformat": 4,
  "nbformat_minor": 0,
  "metadata": {
    "colab": {
      "provenance": []
    },
    "kernelspec": {
      "name": "python3",
      "display_name": "Python 3"
    },
    "language_info": {
      "name": "python"
    }
  },
  "cells": [
    {
      "cell_type": "markdown",
      "source": [
        "Apply Support Vector Machine (SVM) to the &quot;Social_Network_Ads.csv&quot; dataset for classification,\n",
        "and what were the key factors considered in selecting the SVM model, including preprocessing\n",
        "steps, kernel choice, and evaluation metrics used."
      ],
      "metadata": {
        "id": "EsSQMAIhKNwx"
      }
    },
    {
      "cell_type": "code",
      "source": [
        "import pandas as pd\n",
        "from sklearn.model_selection import train_test_split\n",
        "from sklearn.preprocessing import StandardScaler\n",
        "from sklearn.svm import SVC\n",
        "from sklearn.metrics import accuracy_score, precision_score, recall_score, f1_score, roc_auc_score\n",
        "\n",
        "# Load the dataset\n",
        "data = pd.read_csv('/content/Social_Network_Ads.csv')\n",
        "\n",
        "# Split the data into features and target variable\n",
        "X = data.drop('Purchased', axis=1)\n",
        "y = data['Purchased']\n",
        "\n",
        "# Encode categorical features using get_dummies\n",
        "X = pd.get_dummies(X, columns=['Gender'])\n",
        "\n",
        "# Split the data into training and testing sets\n",
        "X_train, X_test, y_train, y_test = train_test_split(X, y, test_size=0.2, random_state=42)\n",
        "\n",
        "# Standardize the features\n",
        "scaler = StandardScaler()\n",
        "X_train = scaler.fit_transform(X_train)\n",
        "X_test = scaler.transform(X_test)\n",
        "\n",
        "# Create an SVM model with RBF kernel\n",
        "svm_model = SVC(kernel='rbf')\n",
        "\n",
        "# Train the SVM model\n",
        "svm_model.fit(X_train, y_train)\n",
        "\n",
        "# Make predictions on the test set\n",
        "y_pred = svm_model.predict(X_test)\n",
        "\n",
        "# Evaluate the model\n",
        "accuracy = accuracy_score(y_test, y_pred)\n",
        "precision = precision_score(y_test, y_pred)\n",
        "recall = recall_score(y_test, y_pred)\n",
        "f1 = f1_score(y_test, y_pred)\n",
        "roc_auc = roc_auc_score(y_test, y_pred)\n",
        "\n",
        "print(f\"Accuracy: {accuracy:.2f}\")\n",
        "print(f\"Precision: {precision:.2f}\")\n",
        "print(f\"Recall: {recall:.2f}\")\n",
        "print(f\"F1-score: {f1:.2f}\")\n",
        "print(f\"ROC-AUC: {roc_auc:.2f}\")"
      ],
      "metadata": {
        "colab": {
          "base_uri": "https://localhost:8080/"
        },
        "id": "KoJBBHCeAH99",
        "outputId": "ed68fc68-9c23-4f96-a06b-b40b201f36d7"
      },
      "execution_count": 14,
      "outputs": [
        {
          "output_type": "stream",
          "name": "stdout",
          "text": [
            "Accuracy: 0.93\n",
            "Precision: 0.87\n",
            "Recall: 0.93\n",
            "F1-score: 0.90\n",
            "ROC-AUC: 0.93\n"
          ]
        }
      ]
    }
  ]
}