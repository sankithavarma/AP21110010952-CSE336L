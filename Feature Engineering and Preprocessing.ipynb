{
 "cells": [
  {
   "cell_type": "markdown",
   "id": "b1ca4e96",
   "metadata": {},
   "source": [
    " # WEEK-7 (Feature Engineering/Preprocessing)"
   ]
  },
  {
   "cell_type": "markdown",
   "id": "dfb640ab",
   "metadata": {},
   "source": [
    "#### 1. Create a vector (array) of 1XN dimension representing N-dimensional feature vector of a sample. Write a program to compute the mean and variance of the elements present in the array."
   ]
  },
  {
   "cell_type": "code",
   "execution_count": 1,
   "id": "d1be5cc4",
   "metadata": {},
   "outputs": [
    {
     "name": "stdout",
     "output_type": "stream",
     "text": [
      "Enter the dimension of the vector: 5\n",
      "Enter element 1: 1\n",
      "Enter element 2: 3\n",
      "Enter element 3: 6\n",
      "Enter element 4: 8\n",
      "Enter element 5: 9\n",
      "Sample Vector: [1. 3. 6. 8. 9.]\n",
      "Mean: 5.4\n",
      "Sample Variance: 11.3\n",
      "Population Variance: 9.040000000000001\n"
     ]
    }
   ],
   "source": [
    "### population formula - σ2 = ∑ni=1 (xi – x̅)2 / N\n",
    "\n",
    "### sample variance formula - s2 = ∑ni=1 (xi – x̅)2 / N-1\n",
    "\n",
    "import numpy as np\n",
    "\n",
    "def compute_mean(array):\n",
    "    mean = np.sum(array) / len(array)\n",
    "    return mean\n",
    "\n",
    "def compute_sample_variance(array):\n",
    "    mean = compute_mean(array)\n",
    "    squared_diff = np.sum((array - mean) ** 2)\n",
    "    variance = squared_diff / (len(array) - 1)\n",
    "    return variance\n",
    "\n",
    "def compute_population_variance(array):\n",
    "    mean = compute_mean(array)\n",
    "    squared_diff = np.sum((array - mean) ** 2)\n",
    "    variance = squared_diff / len(array)\n",
    "    return variance\n",
    "\n",
    "def main():\n",
    "    N = int(input(\"Enter the dimension of the vector: \"))\n",
    "    sample_vector = np.zeros(N)\n",
    "    for i in range(N):\n",
    "        sample_vector[i] = float(input(f\"Enter element {i+1}: \"))\n",
    "\n",
    "    print(\"Sample Vector:\", sample_vector)\n",
    "    mean = compute_mean(sample_vector)\n",
    "    sample_variance = compute_sample_variance(sample_vector)\n",
    "    population_variance = compute_population_variance(sample_vector)\n",
    "\n",
    "    print(\"Mean:\", mean)\n",
    "    print(\"Sample Variance:\", sample_variance)\n",
    "    print(\"Population Variance:\", population_variance)\n",
    "\n",
    "if __name__ == \"__main__\":\n",
    "    main()\n"
   ]
  },
  {
   "cell_type": "markdown",
   "id": "6fcfb519",
   "metadata": {},
   "source": [
    "#### 2. Create two vectors each of dimension 1XM each representing N-dimensional feature vector of a sample. Write a program to compute the Covariance between them."
   ]
  },
  {
   "cell_type": "code",
   "execution_count": 8,
   "id": "dbd655ad",
   "metadata": {},
   "outputs": [
    {
     "name": "stdout",
     "output_type": "stream",
     "text": [
      "Enter the dimension of vector 1: 3\n",
      "Enter the dimension of vector 2: 3\n",
      "Enter 3 elements for vector 1: 2 4 6\n",
      "Enter 3 elements for vector 2: 7 5 3\n",
      "Vector 1: [2. 4. 6.]\n",
      "Vector 2: [7. 5. 3.]\n",
      "Covariance between Vector 1 and Vector 2: -4.0\n"
     ]
    }
   ],
   "source": [
    "### cov(X, Y) = Σ((Xi - X̄) * (Yi - Ȳ)) / n-1\n",
    "\n",
    "\n",
    "import numpy as np\n",
    "\n",
    "def compute_mean(array):\n",
    "    mean = np.sum(array) / len(array)\n",
    "    return mean\n",
    "\n",
    "def compute_covariance(vector1, vector2):\n",
    "    mean1 = compute_mean(vector1)\n",
    "    mean2 = compute_mean(vector2)\n",
    "    covariance = np.sum((vector1 - mean1) * (vector2 - mean2)) / (len(vector1)-1)\n",
    "    return covariance\n",
    "\n",
    "def main():\n",
    "    M = int(input(\"Enter the dimension of vector 1: \"))\n",
    "    N = int(input(\"Enter the dimension of vector 2: \"))\n",
    "\n",
    "    vector1 = np.array(input(f\"Enter {M} elements for vector 1: \").split(), dtype=float)\n",
    "\n",
    "    vector2 = np.array(input(f\"Enter {N} elements for vector 2: \").split(), dtype=float)\n",
    "\n",
    "    print(\"Vector 1:\", vector1)\n",
    "    print(\"Vector 2:\", vector2)\n",
    "\n",
    "    covariance = compute_covariance(vector1, vector2)\n",
    "\n",
    "    print(\"Covariance between Vector 1 and Vector 2:\", covariance)\n",
    "\n",
    "if __name__ == \"__main__\":\n",
    "    main()\n"
   ]
  },
  {
   "cell_type": "markdown",
   "id": "b3f0dfe5",
   "metadata": {},
   "source": [
    "#### 3.Create two vectors each of dimension 1XN. Write a program to compute the Correlation between them."
   ]
  },
  {
   "cell_type": "code",
   "execution_count": 15,
   "id": "7239148b",
   "metadata": {},
   "outputs": [
    {
     "name": "stdout",
     "output_type": "stream",
     "text": [
      "Enter the dimension of the vectors: 4 \n",
      "Enter 4 elements for vector 1: 3 4 5 6\n",
      "Enter 4 elements for vector 2: 4 2 5 8\n",
      "Vector 1: [3. 4. 5. 6.]\n",
      "Vector 2: [4. 2. 5. 8.]\n",
      "Correlation between Vector 1 and Vector 2: 0.7745966692414833\n"
     ]
    }
   ],
   "source": [
    "### r = Σ((Xi - X̄) * (Yi - Ȳ)) / √(Σ(Xi - X̄)² * Σ(Yi - Ȳ)²)\n",
    "\n",
    "\n",
    "import numpy as np\n",
    "\n",
    "def compute_mean(array):\n",
    "    mean = np.sum(array) / len(array)\n",
    "    return mean\n",
    "\n",
    "def compute_correlation(vector1, vector2):\n",
    "    mean1 = compute_mean(vector1)\n",
    "    mean2 = compute_mean(vector2)\n",
    "    covariance = np.sum((vector1 - mean1) * (vector2 - mean2)) / len(vector1)\n",
    "    std_dev1 = np.sqrt(np.sum((vector1 - mean1) ** 2) / len(vector1))\n",
    "    std_dev2 = np.sqrt(np.sum((vector2 - mean2) ** 2) / len(vector2))\n",
    "    correlation = covariance / (std_dev1 * std_dev2)\n",
    "    return correlation\n",
    "\n",
    "def main():\n",
    "    N = int(input(\"Enter the dimension of the vectors: \"))\n",
    "\n",
    "    vector1 = np.array(input(f\"Enter {N} elements for vector 1: \").split(), dtype=float)\n",
    "\n",
    "    vector2 = np.array(input(f\"Enter {N} elements for vector 2: \").split(), dtype=float)\n",
    "\n",
    "    if len(vector1) != N or len(vector2) != N:\n",
    "        print(f\"Error: Vectors must be of length {N}.\")\n",
    "        return\n",
    "\n",
    "    print(\"Vector 1:\", vector1)\n",
    "    print(\"Vector 2:\", vector2)\n",
    "    \n",
    "    correlation = compute_correlation(vector1, vector2)\n",
    "\n",
    "    print(\"Correlation between Vector 1 and Vector 2:\", correlation)\n",
    "\n",
    "if __name__ == \"__main__\":\n",
    "    main()\n"
   ]
  },
  {
   "cell_type": "markdown",
   "id": "78847b36",
   "metadata": {},
   "source": [
    "#### 4. Create a Matrix of MXN dimension representing the M-dimensional feature vector for N number of samples i. e (i,j)th entry of the matrix represents the ith feature of jth sample. Write a program to compute the covariance matrix and correlation matrix. Comment on takeaways from these matrixes."
   ]
  },
  {
   "cell_type": "code",
   "execution_count": 14,
   "id": "6b02299c",
   "metadata": {},
   "outputs": [
    {
     "name": "stdout",
     "output_type": "stream",
     "text": [
      "Sample data matrix:\n",
      "[[1 2 3]\n",
      " [4 5 6]\n",
      " [9 8 7]]\n",
      "\n",
      "Covariance matrix:\n",
      "[[16.33333333 12.          7.66666667]\n",
      " [12.          9.          6.        ]\n",
      " [ 7.66666667  6.          4.33333333]]\n",
      "\n",
      "Correlation matrix:\n",
      "[[1.         0.98974332 0.91129318]\n",
      " [0.98974332 1.         0.96076892]\n",
      " [0.91129318 0.96076892 1.        ]]\n"
     ]
    }
   ],
   "source": [
    "import numpy as np\n",
    "\n",
    "data = np.array([[1, 2,3], [4,5,6], [9,8,7]])\n",
    "\n",
    "def compute_covariance(data):\n",
    "    mean = np.mean(data, axis=0)\n",
    "    centered_data = data - mean\n",
    "    covariance = np.cov(centered_data.T)\n",
    "    return covariance\n",
    "\n",
    "def compute_correlation(data):\n",
    "    covariance = compute_covariance(data)\n",
    "    std_dev = np.diag(covariance)**0.5\n",
    "    correlation = covariance / np.outer(std_dev, std_dev)\n",
    "    return correlation\n",
    "\n",
    "print(\"Sample data matrix:\")\n",
    "print(data)\n",
    "\n",
    "covariance_matrix = compute_covariance(data)\n",
    "print(\"\\nCovariance matrix:\")\n",
    "print(covariance_matrix)\n",
    "\n",
    "correlation_matrix = compute_correlation(data)\n",
    "print(\"\\nCorrelation matrix:\")\n",
    "print(correlation_matrix)\n"
   ]
  },
  {
   "cell_type": "code",
   "execution_count": null,
   "id": "bf905b94",
   "metadata": {},
   "outputs": [],
   "source": []
  }
 ],
 "metadata": {
  "kernelspec": {
   "display_name": "Python 3 (ipykernel)",
   "language": "python",
   "name": "python3"
  },
  "language_info": {
   "codemirror_mode": {
    "name": "ipython",
    "version": 3
   },
   "file_extension": ".py",
   "mimetype": "text/x-python",
   "name": "python",
   "nbconvert_exporter": "python",
   "pygments_lexer": "ipython3",
   "version": "3.10.9"
  }
 },
 "nbformat": 4,
 "nbformat_minor": 5
}
